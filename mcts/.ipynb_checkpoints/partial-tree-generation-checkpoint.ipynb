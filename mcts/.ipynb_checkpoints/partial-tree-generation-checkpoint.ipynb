{
 "cells": [
  {
   "cell_type": "code",
   "execution_count": 1,
   "id": "40f60afb-66d7-4f7c-8f87-1f4ac3ad6d32",
   "metadata": {},
   "outputs": [],
   "source": [
    "import chess\n",
    "import chess.svg\n",
    "import chess.engine"
   ]
  },
  {
   "cell_type": "code",
   "execution_count": 61,
   "id": "71411958-4e41-4632-9756-44d37faa0567",
   "metadata": {},
   "outputs": [
    {
     "name": "stdout",
     "output_type": "stream",
     "text": [
      ". . . . . . . .\n",
      ". . . . b k . p\n",
      ". . p . . . . .\n",
      "p . p . p . . .\n",
      "q . P . P . Q p\n",
      ". . P . B P . .\n",
      ". . . . . . K .\n",
      ". . . . . . . .\n"
     ]
    }
   ],
   "source": [
    "board = chess.Board(\"8/8/8/1p6/2b5/2kp4/8/4K3 w - - 0 171\")\n",
    "print(board)\n"
   ]
  },
  {
   "cell_type": "code",
   "execution_count": 62,
   "id": "15800dea-e35c-442f-a5c2-f35e544e688e",
   "metadata": {},
   "outputs": [
    {
     "name": "stdout",
     "output_type": "stream",
     "text": [
      "g4g7\n",
      "8/4bkQp/2p5/p1p1p3/q1P1P2p/2P1BP2/6K1/8 b - - 1 42\n"
     ]
    }
   ],
   "source": [
    "print(list(board.legal_moves)[2])\n",
    "board.push(list(board.legal_moves)[2])\n",
    "print(board.fen())"
   ]
  },
  {
   "cell_type": "code",
   "execution_count": 63,
   "id": "0168d44b-b079-4f86-aaa1-f5be759e7f4e",
   "metadata": {},
   "outputs": [
    {
     "name": "stdout",
     "output_type": "stream",
     "text": [
      "f7e6\n",
      "8/4b1Qp/2p1k3/p1p1p3/q1P1P2p/2P1BP2/6K1/8 w - - 2 43\n"
     ]
    }
   ],
   "source": [
    "print(list(board.legal_moves)[2])\n",
    "board.push(list(board.legal_moves)[2])\n",
    "print(board.fen())"
   ]
  },
  {
   "cell_type": "code",
   "execution_count": 64,
   "id": "0d84c066-f9b4-4b6c-bbdf-645cdd2455ea",
   "metadata": {},
   "outputs": [
    {
     "name": "stdout",
     "output_type": "stream",
     "text": [
      "g7f8\n",
      "5Q2/4b2p/2p1k3/p1p1p3/q1P1P2p/2P1BP2/6K1/8 b - - 3 43\n"
     ]
    }
   ],
   "source": [
    "print(list(board.legal_moves)[2])\n",
    "board.push(list(board.legal_moves)[2])\n",
    "print(board.fen())"
   ]
  },
  {
   "cell_type": "code",
   "execution_count": null,
   "id": "4b7ef258-535e-40a7-ba45-3e6ba7da011d",
   "metadata": {},
   "outputs": [],
   "source": []
  },
  {
   "cell_type": "code",
   "execution_count": null,
   "id": "5b79051f-b8c6-4967-9892-a75e09e6971d",
   "metadata": {},
   "outputs": [],
   "source": []
  }
 ],
 "metadata": {
  "kernelspec": {
   "display_name": "Python 3 (ipykernel)",
   "language": "python",
   "name": "python3"
  },
  "language_info": {
   "codemirror_mode": {
    "name": "ipython",
    "version": 3
   },
   "file_extension": ".py",
   "mimetype": "text/x-python",
   "name": "python",
   "nbconvert_exporter": "python",
   "pygments_lexer": "ipython3",
   "version": "3.10.7"
  }
 },
 "nbformat": 4,
 "nbformat_minor": 5
}
