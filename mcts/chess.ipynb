{
 "cells": [
  {
   "cell_type": "code",
   "execution_count": 63,
   "id": "a46dcd01-e9ad-4bcd-93b2-1db7cbc905f4",
   "metadata": {},
   "outputs": [],
   "source": [
    "import chess"
   ]
  },
  {
   "cell_type": "code",
   "execution_count": 64,
   "id": "ac50f2e3-6238-4fb9-bbc6-360b76da82b9",
   "metadata": {},
   "outputs": [],
   "source": [
    "fen = \"3Q4/4K3/8/2k5/8/8/8/8 w - - 0 1\""
   ]
  },
  {
   "cell_type": "code",
   "execution_count": 65,
   "id": "bfaaed1b-a8d6-4d47-bfa2-4c1d5518c9fd",
   "metadata": {},
   "outputs": [],
   "source": [
    "b = chess.Board(fen)"
   ]
  },
  {
   "cell_type": "code",
   "execution_count": 66,
   "id": "190a0f1b-d6bb-4512-a55c-f029c850e08b",
   "metadata": {},
   "outputs": [
    {
     "data": {
      "text/plain": [
       "<LegalMoveGenerator at 0x10c9db390 (Qh8, Qg8, Qf8, Qe8, Qc8+, Qb8, Qa8, Qd7, Qc7+, Qd6+, Qb6+, Qd5+, Qa5+, Qd4+, Qd3, Qd2, Qd1, Kf8, Ke8, Kf7, Kd7, Kf6, Ke6)>"
      ]
     },
     "execution_count": 66,
     "metadata": {},
     "output_type": "execute_result"
    }
   ],
   "source": [
    "b.legal_moves"
   ]
  },
  {
   "cell_type": "code",
   "execution_count": 74,
   "id": "339e1c08-8f6b-436f-9990-0c1fc5a64b88",
   "metadata": {},
   "outputs": [
    {
     "data": {
      "text/plain": [
       "Move.from_uci('d8h8')"
      ]
     },
     "execution_count": 74,
     "metadata": {},
     "output_type": "execute_result"
    }
   ],
   "source": [
    "list(b.legal_moves)[0]"
   ]
  },
  {
   "cell_type": "code",
   "execution_count": 67,
   "id": "a714adda-81e4-498f-9c53-4016df5538fd",
   "metadata": {},
   "outputs": [
    {
     "data": {
      "text/plain": [
       "['Qh8', 'Qg8', 'Qf8', 'Qe8', 'Qc8+']"
      ]
     },
     "execution_count": 67,
     "metadata": {},
     "output_type": "execute_result"
    }
   ],
   "source": [
    "moves = [b.san(m) for m in b.legal_moves]\n",
    "moves[:5]"
   ]
  },
  {
   "cell_type": "code",
   "execution_count": 71,
   "id": "1f8b531d-268d-4ae7-93b2-e0ac39893bb0",
   "metadata": {},
   "outputs": [
    {
     "data": {
      "text/plain": [
       "'Qh8'"
      ]
     },
     "execution_count": 71,
     "metadata": {},
     "output_type": "execute_result"
    }
   ],
   "source": [
    "m = moves[0]\n",
    "m"
   ]
  },
  {
   "cell_type": "code",
   "execution_count": 73,
   "id": "f2a27fad-a916-4d76-8049-5562da9da54d",
   "metadata": {},
   "outputs": [
    {
     "data": {
      "text/plain": [
       "str"
      ]
     },
     "execution_count": 73,
     "metadata": {},
     "output_type": "execute_result"
    }
   ],
   "source": [
    "type(m)"
   ]
  },
  {
   "cell_type": "code",
   "execution_count": 72,
   "id": "584343be-4abb-4f98-ae5f-ad4806053602",
   "metadata": {},
   "outputs": [
    {
     "data": {
      "text/plain": [
       "['__add__',\n",
       " '__class__',\n",
       " '__contains__',\n",
       " '__delattr__',\n",
       " '__dir__',\n",
       " '__doc__',\n",
       " '__eq__',\n",
       " '__format__',\n",
       " '__ge__',\n",
       " '__getattribute__',\n",
       " '__getitem__',\n",
       " '__getnewargs__',\n",
       " '__getstate__',\n",
       " '__gt__',\n",
       " '__hash__',\n",
       " '__init__',\n",
       " '__init_subclass__',\n",
       " '__iter__',\n",
       " '__le__',\n",
       " '__len__',\n",
       " '__lt__',\n",
       " '__mod__',\n",
       " '__mul__',\n",
       " '__ne__',\n",
       " '__new__',\n",
       " '__reduce__',\n",
       " '__reduce_ex__',\n",
       " '__repr__',\n",
       " '__rmod__',\n",
       " '__rmul__',\n",
       " '__setattr__',\n",
       " '__sizeof__',\n",
       " '__str__',\n",
       " '__subclasshook__',\n",
       " 'capitalize',\n",
       " 'casefold',\n",
       " 'center',\n",
       " 'count',\n",
       " 'encode',\n",
       " 'endswith',\n",
       " 'expandtabs',\n",
       " 'find',\n",
       " 'format',\n",
       " 'format_map',\n",
       " 'index',\n",
       " 'isalnum',\n",
       " 'isalpha',\n",
       " 'isascii',\n",
       " 'isdecimal',\n",
       " 'isdigit',\n",
       " 'isidentifier',\n",
       " 'islower',\n",
       " 'isnumeric',\n",
       " 'isprintable',\n",
       " 'isspace',\n",
       " 'istitle',\n",
       " 'isupper',\n",
       " 'join',\n",
       " 'ljust',\n",
       " 'lower',\n",
       " 'lstrip',\n",
       " 'maketrans',\n",
       " 'partition',\n",
       " 'removeprefix',\n",
       " 'removesuffix',\n",
       " 'replace',\n",
       " 'rfind',\n",
       " 'rindex',\n",
       " 'rjust',\n",
       " 'rpartition',\n",
       " 'rsplit',\n",
       " 'rstrip',\n",
       " 'split',\n",
       " 'splitlines',\n",
       " 'startswith',\n",
       " 'strip',\n",
       " 'swapcase',\n",
       " 'title',\n",
       " 'translate',\n",
       " 'upper',\n",
       " 'zfill']"
      ]
     },
     "execution_count": 72,
     "metadata": {},
     "output_type": "execute_result"
    }
   ],
   "source": [
    "dir(m)"
   ]
  },
  {
   "cell_type": "code",
   "execution_count": 62,
   "id": "26a7f364-9ee9-4548-9f1c-75e34109c39a",
   "metadata": {},
   "outputs": [
    {
     "ename": "AssertionError",
     "evalue": "push() expects move to be pseudo-legal, but got d8h8 in 7Q/4K3/8/2k5/8/8/8/8",
     "output_type": "error",
     "traceback": [
      "\u001b[0;31m---------------------------------------------------------------------------\u001b[0m",
      "\u001b[0;31mAssertionError\u001b[0m                            Traceback (most recent call last)",
      "Cell \u001b[0;32mIn[62], line 1\u001b[0m\n\u001b[0;32m----> 1\u001b[0m m \u001b[38;5;241m=\u001b[39m \u001b[43mb\u001b[49m\u001b[38;5;241;43m.\u001b[39;49m\u001b[43mpush\u001b[49m\u001b[43m(\u001b[49m\u001b[43mm\u001b[49m\u001b[43m)\u001b[49m\n",
      "File \u001b[0;32m~/playgo/mc-chess/.venv/lib/python3.11/site-packages/chess/__init__.py:2259\u001b[0m, in \u001b[0;36mBoard.push\u001b[0;34m(self, move)\u001b[0m\n\u001b[1;32m   2257\u001b[0m promoted \u001b[38;5;241m=\u001b[39m \u001b[38;5;28mbool\u001b[39m(\u001b[38;5;28mself\u001b[39m\u001b[38;5;241m.\u001b[39mpromoted \u001b[38;5;241m&\u001b[39m from_bb)\n\u001b[1;32m   2258\u001b[0m piece_type \u001b[38;5;241m=\u001b[39m \u001b[38;5;28mself\u001b[39m\u001b[38;5;241m.\u001b[39m_remove_piece_at(move\u001b[38;5;241m.\u001b[39mfrom_square)\n\u001b[0;32m-> 2259\u001b[0m \u001b[38;5;28;01massert\u001b[39;00m piece_type \u001b[38;5;129;01mis\u001b[39;00m \u001b[38;5;129;01mnot\u001b[39;00m \u001b[38;5;28;01mNone\u001b[39;00m, \u001b[38;5;124mf\u001b[39m\u001b[38;5;124m\"\u001b[39m\u001b[38;5;124mpush() expects move to be pseudo-legal, but got \u001b[39m\u001b[38;5;132;01m{\u001b[39;00mmove\u001b[38;5;132;01m}\u001b[39;00m\u001b[38;5;124m in \u001b[39m\u001b[38;5;132;01m{\u001b[39;00m\u001b[38;5;28mself\u001b[39m\u001b[38;5;241m.\u001b[39mboard_fen()\u001b[38;5;132;01m}\u001b[39;00m\u001b[38;5;124m\"\u001b[39m\n\u001b[1;32m   2260\u001b[0m capture_square \u001b[38;5;241m=\u001b[39m move\u001b[38;5;241m.\u001b[39mto_square\n\u001b[1;32m   2261\u001b[0m captured_piece_type \u001b[38;5;241m=\u001b[39m \u001b[38;5;28mself\u001b[39m\u001b[38;5;241m.\u001b[39mpiece_type_at(capture_square)\n",
      "\u001b[0;31mAssertionError\u001b[0m: push() expects move to be pseudo-legal, but got d8h8 in 7Q/4K3/8/2k5/8/8/8/8"
     ]
    }
   ],
   "source": [
    "m = b.push(m)"
   ]
  },
  {
   "cell_type": "code",
   "execution_count": 60,
   "id": "f08ce7b3-1662-405e-b2e1-e4f863e0f2de",
   "metadata": {},
   "outputs": [
    {
     "data": {
      "text/plain": [
       "Move.from_uci('d8h8')"
      ]
     },
     "execution_count": 60,
     "metadata": {},
     "output_type": "execute_result"
    }
   ],
   "source": [
    "m"
   ]
  },
  {
   "cell_type": "code",
   "execution_count": 61,
   "id": "16796aa2-6890-4af2-8063-ef503f4df8d1",
   "metadata": {},
   "outputs": [
    {
     "ename": "AssertionError",
     "evalue": "san() and lan() expect move to be legal or null, but got d8h8 in 7Q/4K3/8/2k5/8/8/8/8 b - - 1 1",
     "output_type": "error",
     "traceback": [
      "\u001b[0;31m---------------------------------------------------------------------------\u001b[0m",
      "\u001b[0;31mAssertionError\u001b[0m                            Traceback (most recent call last)",
      "Cell \u001b[0;32mIn[61], line 1\u001b[0m\n\u001b[0;32m----> 1\u001b[0m \u001b[43mb\u001b[49m\u001b[38;5;241;43m.\u001b[39;49m\u001b[43msan\u001b[49m\u001b[43m(\u001b[49m\u001b[43mm\u001b[49m\u001b[43m)\u001b[49m\n",
      "File \u001b[0;32m~/playgo/mc-chess/.venv/lib/python3.11/site-packages/chess/__init__.py:2866\u001b[0m, in \u001b[0;36mBoard.san\u001b[0;34m(self, move)\u001b[0m\n\u001b[1;32m   2861\u001b[0m \u001b[38;5;28;01mdef\u001b[39;00m \u001b[38;5;21msan\u001b[39m(\u001b[38;5;28mself\u001b[39m, move: Move) \u001b[38;5;241m-\u001b[39m\u001b[38;5;241m>\u001b[39m \u001b[38;5;28mstr\u001b[39m:\n\u001b[1;32m   2862\u001b[0m \u001b[38;5;250m    \u001b[39m\u001b[38;5;124;03m\"\"\"\u001b[39;00m\n\u001b[1;32m   2863\u001b[0m \u001b[38;5;124;03m    Gets the standard algebraic notation of the given move in the context\u001b[39;00m\n\u001b[1;32m   2864\u001b[0m \u001b[38;5;124;03m    of the current position.\u001b[39;00m\n\u001b[1;32m   2865\u001b[0m \u001b[38;5;124;03m    \"\"\"\u001b[39;00m\n\u001b[0;32m-> 2866\u001b[0m     \u001b[38;5;28;01mreturn\u001b[39;00m \u001b[38;5;28;43mself\u001b[39;49m\u001b[38;5;241;43m.\u001b[39;49m\u001b[43m_algebraic\u001b[49m\u001b[43m(\u001b[49m\u001b[43mmove\u001b[49m\u001b[43m)\u001b[49m\n",
      "File \u001b[0;32m~/playgo/mc-chess/.venv/lib/python3.11/site-packages/chess/__init__.py:2879\u001b[0m, in \u001b[0;36mBoard._algebraic\u001b[0;34m(self, move, long)\u001b[0m\n\u001b[1;32m   2878\u001b[0m \u001b[38;5;28;01mdef\u001b[39;00m \u001b[38;5;21m_algebraic\u001b[39m(\u001b[38;5;28mself\u001b[39m, move: Move, \u001b[38;5;241m*\u001b[39m, long: \u001b[38;5;28mbool\u001b[39m \u001b[38;5;241m=\u001b[39m \u001b[38;5;28;01mFalse\u001b[39;00m) \u001b[38;5;241m-\u001b[39m\u001b[38;5;241m>\u001b[39m \u001b[38;5;28mstr\u001b[39m:\n\u001b[0;32m-> 2879\u001b[0m     san \u001b[38;5;241m=\u001b[39m \u001b[38;5;28;43mself\u001b[39;49m\u001b[38;5;241;43m.\u001b[39;49m\u001b[43m_algebraic_and_push\u001b[49m\u001b[43m(\u001b[49m\u001b[43mmove\u001b[49m\u001b[43m,\u001b[49m\u001b[43m \u001b[49m\u001b[43mlong\u001b[49m\u001b[38;5;241;43m=\u001b[39;49m\u001b[43mlong\u001b[49m\u001b[43m)\u001b[49m\n\u001b[1;32m   2880\u001b[0m     \u001b[38;5;28mself\u001b[39m\u001b[38;5;241m.\u001b[39mpop()\n\u001b[1;32m   2881\u001b[0m     \u001b[38;5;28;01mreturn\u001b[39;00m san\n",
      "File \u001b[0;32m~/playgo/mc-chess/.venv/lib/python3.11/site-packages/chess/__init__.py:2884\u001b[0m, in \u001b[0;36mBoard._algebraic_and_push\u001b[0;34m(self, move, long)\u001b[0m\n\u001b[1;32m   2883\u001b[0m \u001b[38;5;28;01mdef\u001b[39;00m \u001b[38;5;21m_algebraic_and_push\u001b[39m(\u001b[38;5;28mself\u001b[39m, move: Move, \u001b[38;5;241m*\u001b[39m, long: \u001b[38;5;28mbool\u001b[39m \u001b[38;5;241m=\u001b[39m \u001b[38;5;28;01mFalse\u001b[39;00m) \u001b[38;5;241m-\u001b[39m\u001b[38;5;241m>\u001b[39m \u001b[38;5;28mstr\u001b[39m:\n\u001b[0;32m-> 2884\u001b[0m     san \u001b[38;5;241m=\u001b[39m \u001b[38;5;28;43mself\u001b[39;49m\u001b[38;5;241;43m.\u001b[39;49m\u001b[43m_algebraic_without_suffix\u001b[49m\u001b[43m(\u001b[49m\u001b[43mmove\u001b[49m\u001b[43m,\u001b[49m\u001b[43m \u001b[49m\u001b[43mlong\u001b[49m\u001b[38;5;241;43m=\u001b[39;49m\u001b[43mlong\u001b[49m\u001b[43m)\u001b[49m\n\u001b[1;32m   2886\u001b[0m     \u001b[38;5;66;03m# Look ahead for check or checkmate.\u001b[39;00m\n\u001b[1;32m   2887\u001b[0m     \u001b[38;5;28mself\u001b[39m\u001b[38;5;241m.\u001b[39mpush(move)\n",
      "File \u001b[0;32m~/playgo/mc-chess/.venv/lib/python3.11/site-packages/chess/__init__.py:2920\u001b[0m, in \u001b[0;36mBoard._algebraic_without_suffix\u001b[0;34m(self, move, long)\u001b[0m\n\u001b[1;32m   2917\u001b[0m         \u001b[38;5;28;01mreturn\u001b[39;00m \u001b[38;5;124m\"\u001b[39m\u001b[38;5;124mO-O\u001b[39m\u001b[38;5;124m\"\u001b[39m\n\u001b[1;32m   2919\u001b[0m piece_type \u001b[38;5;241m=\u001b[39m \u001b[38;5;28mself\u001b[39m\u001b[38;5;241m.\u001b[39mpiece_type_at(move\u001b[38;5;241m.\u001b[39mfrom_square)\n\u001b[0;32m-> 2920\u001b[0m \u001b[38;5;28;01massert\u001b[39;00m piece_type, \u001b[38;5;124mf\u001b[39m\u001b[38;5;124m\"\u001b[39m\u001b[38;5;124msan() and lan() expect move to be legal or null, but got \u001b[39m\u001b[38;5;132;01m{\u001b[39;00mmove\u001b[38;5;132;01m}\u001b[39;00m\u001b[38;5;124m in \u001b[39m\u001b[38;5;132;01m{\u001b[39;00m\u001b[38;5;28mself\u001b[39m\u001b[38;5;241m.\u001b[39mfen()\u001b[38;5;132;01m}\u001b[39;00m\u001b[38;5;124m\"\u001b[39m\n\u001b[1;32m   2921\u001b[0m capture \u001b[38;5;241m=\u001b[39m \u001b[38;5;28mself\u001b[39m\u001b[38;5;241m.\u001b[39mis_capture(move)\n\u001b[1;32m   2923\u001b[0m \u001b[38;5;28;01mif\u001b[39;00m piece_type \u001b[38;5;241m==\u001b[39m PAWN:\n",
      "\u001b[0;31mAssertionError\u001b[0m: san() and lan() expect move to be legal or null, but got d8h8 in 7Q/4K3/8/2k5/8/8/8/8 b - - 1 1"
     ]
    }
   ],
   "source": [
    "b.san(m)"
   ]
  },
  {
   "cell_type": "code",
   "execution_count": 47,
   "id": "5eeb5514-2f60-4ca6-bb89-452db657cfb4",
   "metadata": {},
   "outputs": [
    {
     "ename": "AssertionError",
     "evalue": "san() and lan() expect move to be legal or null, but got d8h8 in 7Q/4K3/8/2k5/8/8/8/8 b - - 1 1",
     "output_type": "error",
     "traceback": [
      "\u001b[0;31m---------------------------------------------------------------------------\u001b[0m",
      "\u001b[0;31mAssertionError\u001b[0m                            Traceback (most recent call last)",
      "Cell \u001b[0;32mIn[47], line 1\u001b[0m\n\u001b[0;32m----> 1\u001b[0m \u001b[43mb\u001b[49m\u001b[38;5;241;43m.\u001b[39;49m\u001b[43msan\u001b[49m\u001b[43m(\u001b[49m\u001b[43mb\u001b[49m\u001b[38;5;241;43m.\u001b[39;49m\u001b[43mpush_san\u001b[49m\u001b[43m(\u001b[49m\u001b[43mm\u001b[49m\u001b[43m)\u001b[49m\u001b[43m)\u001b[49m\n",
      "File \u001b[0;32m~/playgo/mc-chess/.venv/lib/python3.11/site-packages/chess/__init__.py:2866\u001b[0m, in \u001b[0;36mBoard.san\u001b[0;34m(self, move)\u001b[0m\n\u001b[1;32m   2861\u001b[0m \u001b[38;5;28;01mdef\u001b[39;00m \u001b[38;5;21msan\u001b[39m(\u001b[38;5;28mself\u001b[39m, move: Move) \u001b[38;5;241m-\u001b[39m\u001b[38;5;241m>\u001b[39m \u001b[38;5;28mstr\u001b[39m:\n\u001b[1;32m   2862\u001b[0m \u001b[38;5;250m    \u001b[39m\u001b[38;5;124;03m\"\"\"\u001b[39;00m\n\u001b[1;32m   2863\u001b[0m \u001b[38;5;124;03m    Gets the standard algebraic notation of the given move in the context\u001b[39;00m\n\u001b[1;32m   2864\u001b[0m \u001b[38;5;124;03m    of the current position.\u001b[39;00m\n\u001b[1;32m   2865\u001b[0m \u001b[38;5;124;03m    \"\"\"\u001b[39;00m\n\u001b[0;32m-> 2866\u001b[0m     \u001b[38;5;28;01mreturn\u001b[39;00m \u001b[38;5;28;43mself\u001b[39;49m\u001b[38;5;241;43m.\u001b[39;49m\u001b[43m_algebraic\u001b[49m\u001b[43m(\u001b[49m\u001b[43mmove\u001b[49m\u001b[43m)\u001b[49m\n",
      "File \u001b[0;32m~/playgo/mc-chess/.venv/lib/python3.11/site-packages/chess/__init__.py:2879\u001b[0m, in \u001b[0;36mBoard._algebraic\u001b[0;34m(self, move, long)\u001b[0m\n\u001b[1;32m   2878\u001b[0m \u001b[38;5;28;01mdef\u001b[39;00m \u001b[38;5;21m_algebraic\u001b[39m(\u001b[38;5;28mself\u001b[39m, move: Move, \u001b[38;5;241m*\u001b[39m, long: \u001b[38;5;28mbool\u001b[39m \u001b[38;5;241m=\u001b[39m \u001b[38;5;28;01mFalse\u001b[39;00m) \u001b[38;5;241m-\u001b[39m\u001b[38;5;241m>\u001b[39m \u001b[38;5;28mstr\u001b[39m:\n\u001b[0;32m-> 2879\u001b[0m     san \u001b[38;5;241m=\u001b[39m \u001b[38;5;28;43mself\u001b[39;49m\u001b[38;5;241;43m.\u001b[39;49m\u001b[43m_algebraic_and_push\u001b[49m\u001b[43m(\u001b[49m\u001b[43mmove\u001b[49m\u001b[43m,\u001b[49m\u001b[43m \u001b[49m\u001b[43mlong\u001b[49m\u001b[38;5;241;43m=\u001b[39;49m\u001b[43mlong\u001b[49m\u001b[43m)\u001b[49m\n\u001b[1;32m   2880\u001b[0m     \u001b[38;5;28mself\u001b[39m\u001b[38;5;241m.\u001b[39mpop()\n\u001b[1;32m   2881\u001b[0m     \u001b[38;5;28;01mreturn\u001b[39;00m san\n",
      "File \u001b[0;32m~/playgo/mc-chess/.venv/lib/python3.11/site-packages/chess/__init__.py:2884\u001b[0m, in \u001b[0;36mBoard._algebraic_and_push\u001b[0;34m(self, move, long)\u001b[0m\n\u001b[1;32m   2883\u001b[0m \u001b[38;5;28;01mdef\u001b[39;00m \u001b[38;5;21m_algebraic_and_push\u001b[39m(\u001b[38;5;28mself\u001b[39m, move: Move, \u001b[38;5;241m*\u001b[39m, long: \u001b[38;5;28mbool\u001b[39m \u001b[38;5;241m=\u001b[39m \u001b[38;5;28;01mFalse\u001b[39;00m) \u001b[38;5;241m-\u001b[39m\u001b[38;5;241m>\u001b[39m \u001b[38;5;28mstr\u001b[39m:\n\u001b[0;32m-> 2884\u001b[0m     san \u001b[38;5;241m=\u001b[39m \u001b[38;5;28;43mself\u001b[39;49m\u001b[38;5;241;43m.\u001b[39;49m\u001b[43m_algebraic_without_suffix\u001b[49m\u001b[43m(\u001b[49m\u001b[43mmove\u001b[49m\u001b[43m,\u001b[49m\u001b[43m \u001b[49m\u001b[43mlong\u001b[49m\u001b[38;5;241;43m=\u001b[39;49m\u001b[43mlong\u001b[49m\u001b[43m)\u001b[49m\n\u001b[1;32m   2886\u001b[0m     \u001b[38;5;66;03m# Look ahead for check or checkmate.\u001b[39;00m\n\u001b[1;32m   2887\u001b[0m     \u001b[38;5;28mself\u001b[39m\u001b[38;5;241m.\u001b[39mpush(move)\n",
      "File \u001b[0;32m~/playgo/mc-chess/.venv/lib/python3.11/site-packages/chess/__init__.py:2920\u001b[0m, in \u001b[0;36mBoard._algebraic_without_suffix\u001b[0;34m(self, move, long)\u001b[0m\n\u001b[1;32m   2917\u001b[0m         \u001b[38;5;28;01mreturn\u001b[39;00m \u001b[38;5;124m\"\u001b[39m\u001b[38;5;124mO-O\u001b[39m\u001b[38;5;124m\"\u001b[39m\n\u001b[1;32m   2919\u001b[0m piece_type \u001b[38;5;241m=\u001b[39m \u001b[38;5;28mself\u001b[39m\u001b[38;5;241m.\u001b[39mpiece_type_at(move\u001b[38;5;241m.\u001b[39mfrom_square)\n\u001b[0;32m-> 2920\u001b[0m \u001b[38;5;28;01massert\u001b[39;00m piece_type, \u001b[38;5;124mf\u001b[39m\u001b[38;5;124m\"\u001b[39m\u001b[38;5;124msan() and lan() expect move to be legal or null, but got \u001b[39m\u001b[38;5;132;01m{\u001b[39;00mmove\u001b[38;5;132;01m}\u001b[39;00m\u001b[38;5;124m in \u001b[39m\u001b[38;5;132;01m{\u001b[39;00m\u001b[38;5;28mself\u001b[39m\u001b[38;5;241m.\u001b[39mfen()\u001b[38;5;132;01m}\u001b[39;00m\u001b[38;5;124m\"\u001b[39m\n\u001b[1;32m   2921\u001b[0m capture \u001b[38;5;241m=\u001b[39m \u001b[38;5;28mself\u001b[39m\u001b[38;5;241m.\u001b[39mis_capture(move)\n\u001b[1;32m   2923\u001b[0m \u001b[38;5;28;01mif\u001b[39;00m piece_type \u001b[38;5;241m==\u001b[39m PAWN:\n",
      "\u001b[0;31mAssertionError\u001b[0m: san() and lan() expect move to be legal or null, but got d8h8 in 7Q/4K3/8/2k5/8/8/8/8 b - - 1 1"
     ]
    }
   ],
   "source": [
    "b.san(b.push_san(m))"
   ]
  },
  {
   "cell_type": "code",
   "execution_count": 26,
   "id": "db0d61d2-e920-4782-aaa4-7100bfe138d4",
   "metadata": {},
   "outputs": [
    {
     "data": {
      "text/plain": [
       "<LegalMoveGenerator at 0x10af99510 (Kc6, Kb6, Kd5, Kb5, Kc4, Kb4)>"
      ]
     },
     "execution_count": 26,
     "metadata": {},
     "output_type": "execute_result"
    }
   ],
   "source": [
    "b.legal_moves"
   ]
  },
  {
   "cell_type": "code",
   "execution_count": null,
   "id": "56763ebf-d65b-42f2-a415-efa75d46045e",
   "metadata": {},
   "outputs": [],
   "source": []
  }
 ],
 "metadata": {
  "kernelspec": {
   "display_name": "Python 3 (ipykernel)",
   "language": "python",
   "name": "python3"
  },
  "language_info": {
   "codemirror_mode": {
    "name": "ipython",
    "version": 3
   },
   "file_extension": ".py",
   "mimetype": "text/x-python",
   "name": "python",
   "nbconvert_exporter": "python",
   "pygments_lexer": "ipython3",
   "version": "3.11.5"
  }
 },
 "nbformat": 4,
 "nbformat_minor": 5
}
