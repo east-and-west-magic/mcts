{
 "cells": [
  {
   "cell_type": "code",
   "execution_count": 1,
   "id": "40f60afb-66d7-4f7c-8f87-1f4ac3ad6d32",
   "metadata": {},
   "outputs": [],
   "source": [
    "import chess\n",
    "import chess.svg\n",
    "import chess.engine"
   ]
  },
  {
   "cell_type": "code",
   "execution_count": 89,
   "id": "71411958-4e41-4632-9756-44d37faa0567",
   "metadata": {},
   "outputs": [
    {
     "name": "stdout",
     "output_type": "stream",
     "text": [
      ". . . . . . . .\n",
      ". . . . . . . .\n",
      ". . . . . . . .\n",
      ". p . . . . . .\n",
      ". . b . . . . .\n",
      ". . k p . . . .\n",
      ". . . . . . . .\n",
      ". . . . K . . .\n"
     ]
    }
   ],
   "source": [
    "board = chess.Board(\"8/8/8/1p6/2b5/2kp4/8/4K3 w - - 0 171\")\n",
    "print(board)\n"
   ]
  },
  {
   "cell_type": "code",
   "execution_count": 90,
   "id": "15800dea-e35c-442f-a5c2-f35e544e688e",
   "metadata": {},
   "outputs": [
    {
     "name": "stdout",
     "output_type": "stream",
     "text": [
      "e1d1\n",
      "8/8/8/1p6/2b5/2kp4/8/3K4 b - - 1 171\n"
     ]
    }
   ],
   "source": [
    "print(list(board.legal_moves)[2])\n",
    "board.push(list(board.legal_moves)[2])\n",
    "print(board.fen())"
   ]
  },
  {
   "cell_type": "code",
   "execution_count": 91,
   "id": "0168d44b-b079-4f86-aaa1-f5be759e7f4e",
   "metadata": {},
   "outputs": [
    {
     "name": "stdout",
     "output_type": "stream",
     "text": [
      "c4f7\n",
      "8/5b2/8/1p6/8/2kp4/8/3K4 w - - 2 172\n"
     ]
    }
   ],
   "source": [
    "print(list(board.legal_moves)[1])\n",
    "board.push(list(board.legal_moves)[1])\n",
    "print(board.fen())"
   ]
  },
  {
   "cell_type": "code",
   "execution_count": 92,
   "id": "0d84c066-f9b4-4b6c-bbdf-645cdd2455ea",
   "metadata": {},
   "outputs": [
    {
     "name": "stdout",
     "output_type": "stream",
     "text": [
      "d1c1\n",
      "8/5b2/8/1p6/8/2kp4/8/2K5 b - - 3 172\n"
     ]
    }
   ],
   "source": [
    "print(list(board.legal_moves)[1])\n",
    "board.push(list(board.legal_moves)[1])\n",
    "print(board.fen())"
   ]
  },
  {
   "cell_type": "code",
   "execution_count": null,
   "id": "4b7ef258-535e-40a7-ba45-3e6ba7da011d",
   "metadata": {},
   "outputs": [],
   "source": []
  },
  {
   "cell_type": "code",
   "execution_count": null,
   "id": "5b79051f-b8c6-4967-9892-a75e09e6971d",
   "metadata": {},
   "outputs": [],
   "source": []
  }
 ],
 "metadata": {
  "kernelspec": {
   "display_name": "Python 3 (ipykernel)",
   "language": "python",
   "name": "python3"
  },
  "language_info": {
   "codemirror_mode": {
    "name": "ipython",
    "version": 3
   },
   "file_extension": ".py",
   "mimetype": "text/x-python",
   "name": "python",
   "nbconvert_exporter": "python",
   "pygments_lexer": "ipython3",
   "version": "3.10.7"
  }
 },
 "nbformat": 4,
 "nbformat_minor": 5
}
