{
 "cells": [
  {
   "cell_type": "code",
   "execution_count": 1,
   "id": "40f60afb-66d7-4f7c-8f87-1f4ac3ad6d32",
   "metadata": {},
   "outputs": [],
   "source": [
    "import chess\n",
    "import chess.svg\n",
    "import chess.engine"
   ]
  },
  {
   "cell_type": "code",
   "execution_count": 89,
   "id": "71411958-4e41-4632-9756-44d37faa0567",
   "metadata": {},
   "outputs": [
    {
     "name": "stdout",
     "output_type": "stream",
     "text": [
      ". . . . . . . .\n",
      ". . . . . . . .\n",
      ". . . . . . . .\n",
      ". p . . . . . .\n",
      ". . b . . . . .\n",
      ". . k p . . . .\n",
      ". . . . . . . .\n",
      ". . . . K . . .\n"
     ]
    }
   ],
   "source": [
    "board = chess.Board(\"8/8/8/1p6/2b5/2kp4/8/4K3 w - - 0 171\")\n",
    "print(board)\n"
   ]
  },
  {
   "cell_type": "code",
   "execution_count": 90,
   "id": "15800dea-e35c-442f-a5c2-f35e544e688e",
   "metadata": {},
   "outputs": [
    {
     "name": "stdout",
     "output_type": "stream",
     "text": [
      "e1d1\n",
      "8/8/8/1p6/2b5/2kp4/8/3K4 b - - 1 171\n"
     ]
    }
   ],
   "source": [
    "print(list(board.legal_moves)[2])\n",
    "board.push(list(board.legal_moves)[2])\n",
    "print(board.fen())"
   ]
  },
  {
   "cell_type": "code",
   "execution_count": 91,
   "id": "0168d44b-b079-4f86-aaa1-f5be759e7f4e",
   "metadata": {},
   "outputs": [
    {
     "name": "stdout",
     "output_type": "stream",
     "text": [
      "c4f7\n",
      "8/5b2/8/1p6/8/2kp4/8/3K4 w - - 2 172\n"
     ]
    }
   ],
   "source": [
    "print(list(board.legal_moves)[1])\n",
    "board.push(list(board.legal_moves)[1])\n",
    "print(board.fen())"
   ]
  },
  {
   "cell_type": "code",
   "execution_count": 92,
   "id": "0d84c066-f9b4-4b6c-bbdf-645cdd2455ea",
   "metadata": {},
   "outputs": [
    {
     "name": "stdout",
     "output_type": "stream",
     "text": [
      "d1c1\n",
      "8/5b2/8/1p6/8/2kp4/8/2K5 b - - 3 172\n"
     ]
    }
   ],
   "source": [
    "print(list(board.legal_moves)[1])\n",
    "board.push(list(board.legal_moves)[1])\n",
    "print(board.fen())"
   ]
  },
  {
   "cell_type": "code",
   "execution_count": null,
   "id": "4b7ef258-535e-40a7-ba45-3e6ba7da011d",
   "metadata": {},
   "outputs": [],
   "source": []
  },
  {
   "cell_type": "code",
   "execution_count": 96,
   "id": "5b79051f-b8c6-4967-9892-a75e09e6971d",
   "metadata": {},
   "outputs": [
    {
     "name": "stdout",
     "output_type": "stream",
     "text": [
      "<LegalMoveGenerator at 0x16da1badfc0 (Kf6, Kh5)>\n"
     ]
    }
   ],
   "source": [
    "board2 = chess.Board(\"6Q1/4b2p/2p3k1/p1p1p3/q1P1P2p/2P1BP2/6K1/8 b - - 3 43\")\n",
    "print(board2.legal_moves)"
   ]
  },
  {
   "cell_type": "code",
   "execution_count": 97,
   "id": "236d48c1-8bc7-4497-9bf2-e97ac8f816d0",
   "metadata": {},
   "outputs": [],
   "source": [
    "board2.push(list(board2.legal_moves)[1])"
   ]
  },
  {
   "cell_type": "code",
   "execution_count": 98,
   "id": "5f7867af-9731-46d0-972c-d6a529804a39",
   "metadata": {},
   "outputs": [
    {
     "name": "stdout",
     "output_type": "stream",
     "text": [
      "6Q1/4b2p/2p5/p1p1p2k/q1P1P2p/2P1BP2/6K1/8 w - - 4 44\n"
     ]
    }
   ],
   "source": [
    "print(board2.fen())"
   ]
  },
  {
   "cell_type": "code",
   "execution_count": null,
   "id": "2ed3dae6-222b-4fd8-bb60-325e15f36d8b",
   "metadata": {},
   "outputs": [],
   "source": []
  }
 ],
 "metadata": {
  "kernelspec": {
   "display_name": "Python 3 (ipykernel)",
   "language": "python",
   "name": "python3"
  },
  "language_info": {
   "codemirror_mode": {
    "name": "ipython",
    "version": 3
   },
   "file_extension": ".py",
   "mimetype": "text/x-python",
   "name": "python",
   "nbconvert_exporter": "python",
   "pygments_lexer": "ipython3",
   "version": "3.10.7"
  }
 },
 "nbformat": 4,
 "nbformat_minor": 5
}
