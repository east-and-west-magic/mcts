{
 "cells": [
  {
   "cell_type": "code",
   "execution_count": 2,
   "id": "40f60afb-66d7-4f7c-8f87-1f4ac3ad6d32",
   "metadata": {},
   "outputs": [],
   "source": [
    "import chess\n",
    "import chess.svg\n",
    "import chess.engine"
   ]
  },
  {
   "cell_type": "code",
   "execution_count": 46,
   "id": "71411958-4e41-4632-9756-44d37faa0567",
   "metadata": {},
   "outputs": [
    {
     "name": "stdout",
     "output_type": "stream",
     "text": [
      ". r . . . . . .\n",
      "p . p . . . k .\n",
      ". . . . B . p .\n",
      ". . . . . R . .\n",
      ". . . . . . . .\n",
      ". P b . . . . .\n",
      "q . P . . P P .\n",
      ". . . K . . . R\n"
     ]
    }
   ],
   "source": [
    "board = chess.Board(\"1r6/p1p3k1/4B1p1/5R2/8/1Pb5/q1P2PP1/3K3R w - - 1 27\")\n",
    "print(board)\n"
   ]
  },
  {
   "cell_type": "code",
   "execution_count": 47,
   "id": "15800dea-e35c-442f-a5c2-f35e544e688e",
   "metadata": {},
   "outputs": [
    {
     "name": "stdout",
     "output_type": "stream",
     "text": [
      "e6c8\n",
      "1rB5/p1p3k1/6p1/5R2/8/1Pb5/q1P2PP1/3K3R b - - 2 27\n"
     ]
    }
   ],
   "source": [
    "print(list(board.legal_moves)[1])\n",
    "board.push(list(board.legal_moves)[1])\n",
    "print(board.fen())"
   ]
  },
  {
   "cell_type": "code",
   "execution_count": 48,
   "id": "0168d44b-b079-4f86-aaa1-f5be759e7f4e",
   "metadata": {},
   "outputs": [
    {
     "name": "stdout",
     "output_type": "stream",
     "text": [
      "b8c8\n",
      "2r5/p1p3k1/6p1/5R2/8/1Pb5/q1P2PP1/3K3R w - - 0 28\n"
     ]
    }
   ],
   "source": [
    "print(list(board.legal_moves)[1])\n",
    "board.push(list(board.legal_moves)[0])\n",
    "print(board.fen())"
   ]
  },
  {
   "cell_type": "code",
   "execution_count": 49,
   "id": "0d84c066-f9b4-4b6c-bbdf-645cdd2455ea",
   "metadata": {},
   "outputs": [
    {
     "name": "stdout",
     "output_type": "stream",
     "text": [
      "f5f7\n",
      "2r5/p1p2Rk1/6p1/8/8/1Pb5/q1P2PP1/3K3R b - - 1 28\n"
     ]
    }
   ],
   "source": [
    "print(list(board.legal_moves)[1])\n",
    "board.push(list(board.legal_moves)[1])\n",
    "print(board.fen())"
   ]
  }
 ],
 "metadata": {
  "kernelspec": {
   "display_name": "Python 3 (ipykernel)",
   "language": "python",
   "name": "python3"
  },
  "language_info": {
   "codemirror_mode": {
    "name": "ipython",
    "version": 3
   },
   "file_extension": ".py",
   "mimetype": "text/x-python",
   "name": "python",
   "nbconvert_exporter": "python",
   "pygments_lexer": "ipython3",
   "version": "3.10.7"
  }
 },
 "nbformat": 4,
 "nbformat_minor": 5
}
