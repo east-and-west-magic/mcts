{
 "cells": [
  {
   "cell_type": "code",
   "execution_count": 21,
   "id": "104c1a03-d0f8-4ff0-a1b5-cac3fd6c6a8f",
   "metadata": {},
   "outputs": [],
   "source": [
    "import chess\n",
    "import chess.svg\n",
    "import chess.engine\n",
    "import random\n",
    "from tqdm import tqdm\n",
    "from queue import Queue\n",
    "\n",
    "def generateConfig(movesFromEnd, parameter, whiteStrength, blackStrength):\n",
    "    engine = chess.engine.SimpleEngine.popen_uci(r\"C:\\Users\\amyta\\Downloads\\stockfish-windows-x86-64-avx2\\stockfish\\stockfish-windows-x86-64-avx2.exe\")\n",
    "    fenQueue = Queue(maxsize = movesFromEnd) \n",
    "    board = chess.Board()\n",
    "    if parameter == 'time':\n",
    "        display('time')\n",
    "        while not board.is_game_over():\n",
    "            res = engine.play(board, chess.engine.Limit(time=whiteStrength['time']))\n",
    "            board.push(res.move)\n",
    "\n",
    "            res = engine.play(board, chess.engine.Limit(time=blackStrength['time']))\n",
    "            board.push(res.move)\n",
    "\n",
    "            if (fenQueue.full()):\n",
    "                fenQueue.get()\n",
    "            fenQueue.put(board.fen())\n",
    "    elif parameter == 'depth':\n",
    "        display('depth')\n",
    "        while not board.is_game_over():\n",
    "            res = engine.play(board, chess.engine.Limit(depth=whiteStrength['depth']))\n",
    "            board.push(res.move)\n",
    "\n",
    "            res = engine.play(board, chess.engine.Limit(depth=blackStrength['depth']))\n",
    "            board.push(res.move)\n",
    "\n",
    "            if (fenQueue.full()):\n",
    "                fenQueue.get()\n",
    "            fenQueue.put(board.fen())\n",
    "    else:\n",
    "        display('nodes')\n",
    "        while not board.is_game_over():\n",
    "            res = engine.play(board, chess.engine.Limit(nodes=whiteStrength['nodes']))\n",
    "            board.push(res.move)\n",
    "\n",
    "            res = engine.play(board, chess.engine.Limit(nodes=blackStrength['nodes']))\n",
    "            board.push(res.move)\n",
    "\n",
    "            if (fenQueue.full()):\n",
    "                fenQueue.get()\n",
    "            fenQueue.put(board.fen())\n",
    "\n",
    "\n",
    "    engine.quit()\n",
    "    return fenQueue.get()"
   ]
  },
  {
   "cell_type": "code",
   "execution_count": 22,
   "id": "a59f7703-95f0-4318-abbf-ed93661747df",
   "metadata": {},
   "outputs": [
    {
     "data": {
      "text/plain": [
       "'time'"
      ]
     },
     "metadata": {},
     "output_type": "display_data"
    },
    {
     "data": {
      "text/plain": [
       "'8/5k2/8/5p2/3b1P2/5K2/7R/8 w - - 3 81'"
      ]
     },
     "metadata": {},
     "output_type": "display_data"
    }
   ],
   "source": [
    "fen = generateConfig(10, 'time', {'time': 0.1, 'depth': 20, 'nodes': 10000}, {'time': 0.01, 'depth': 20, 'nodes': 5000})\n",
    "display(fen)"
   ]
  },
  {
   "cell_type": "code",
   "execution_count": null,
   "id": "018782b4-9f40-489a-b8be-45c7ee51bcf1",
   "metadata": {},
   "outputs": [],
   "source": []
  }
 ],
 "metadata": {
  "kernelspec": {
   "display_name": "Python 3 (ipykernel)",
   "language": "python",
   "name": "python3"
  },
  "language_info": {
   "codemirror_mode": {
    "name": "ipython",
    "version": 3
   },
   "file_extension": ".py",
   "mimetype": "text/x-python",
   "name": "python",
   "nbconvert_exporter": "python",
   "pygments_lexer": "ipython3",
   "version": "3.10.7"
  }
 },
 "nbformat": 4,
 "nbformat_minor": 5
}
